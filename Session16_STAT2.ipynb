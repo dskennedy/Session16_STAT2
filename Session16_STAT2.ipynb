{
 "cells": [
  {
   "cell_type": "markdown",
   "metadata": {},
   "source": [
    "1. Determine the probability that a person undertaking that test has answered exactly 5 questions wrong."
   ]
  },
  {
   "cell_type": "markdown",
   "metadata": {},
   "source": [
    "P (‘k’ successes in ‘n’ trials) = C(n,k)s^k(1−s)^(n−k)\n",
    "n means number of trails\n",
    "k means number of success\n",
    "C (n, k) = n!/(k!(n−k)!)\n",
    "So, P (exactly 5 out of 20 answers incorrect) = C(20, 5) * (1/4)^ 15 * (3/4) ^ 5\n",
    "\n",
    "Solution – \n",
    "Here, n = 20, n - k = 5, k = 20 - 5 = 15\n",
    "\n",
    "Here the probability of success = probability of giving a right answer = s = 1/4\n",
    "\n",
    "Hence, the probability of failure = probability of giving a wrong answer = 1 - s \n",
    "= 1 – 1/4 = 3/4\n",
    "\n",
    "When we substitute these values in the formula for Binomial distribution we get,\n",
    "\n",
    "So, P (exactly 5 out of 20 answers incorrect) = C (20, 5) * (1/4)^ 15 * (3/4) ^ 5\n",
    "→ P (5 out of 20) = (20∗19∗18∗17∗16) / (5∗4∗3∗2∗1) * (1/4) ^ 15 * (3/4) ^ 5\n",
    "\n",
    "= 0.0000034 (approx)\n",
    "\n",
    "Thus the required probability is 0.0000034 approximately.\n"
   ]
  },
  {
   "cell_type": "code",
   "execution_count": 37,
   "metadata": {},
   "outputs": [],
   "source": [
    "def facto(val):\n",
    "    cal_val=1\n",
    "    for i in range(val,1,-1):\n",
    "        cal_val=cal_val*i\n",
    "    return cal_val\n"
   ]
  },
  {
   "cell_type": "code",
   "execution_count": 41,
   "metadata": {},
   "outputs": [
    {
     "name": "stdout",
     "output_type": "stream",
     "text": [
      "3.4264958230778575e-06\n"
     ]
    }
   ],
   "source": [
    "n=20\n",
    "k=15\n",
    "K=5\n",
    "coef_nk=facto(n)/(facto(K)*facto(n-K))\n",
    "Prob_of_eact5wrong=coef_nk*((1/4)**15)*((3/4)**5)\n",
    "print(Prob_of_eact5wrong)"
   ]
  },
  {
   "cell_type": "markdown",
   "metadata": {},
   "source": [
    "2. A die marked A to E is rolled 50 times. Find the probability of getting a “D” exactly 5 times."
   ]
  },
  {
   "cell_type": "markdown",
   "metadata": {},
   "source": [
    "Solution – \n",
    "Here, n = 50, k = 5, n - k = 45.\n",
    "\n",
    "The probability of success = probability of getting a “D”= s = 1/5\n",
    "Hence, the probability of failure = probability of not getting a “D” = 1 - s = 4/5.\n"
   ]
  },
  {
   "cell_type": "code",
   "execution_count": 44,
   "metadata": {},
   "outputs": [
    {
     "name": "stdout",
     "output_type": "stream",
     "text": [
      "2.4427639671008095e-26\n"
     ]
    }
   ],
   "source": [
    "n=50\n",
    "k=45\n",
    "K=5\n",
    "coef_nk=facto(n)/(facto(K)*facto(n-K))\n",
    "Prob_of_eact5wrong=coef_nk*((1/5)**k)*((4/5)**K)\n",
    "print(Prob_of_eact5wrong)"
   ]
  },
  {
   "cell_type": "markdown",
   "metadata": {},
   "source": [
    "3. Find the probabilities of all the possible outcomes."
   ]
  },
  {
   "cell_type": "markdown",
   "metadata": {},
   "source": [
    "Solution – \n",
    "First determine the probabilities of the events.\n",
    "\n",
    "    Events  Probability\n",
    "    RR    = (4/10)(3/9) = 2/15\n",
    "    RB    = (4/10)(6/9) = 4/15\n",
    "    BR    = (6/10)(4/9) = 4/15 \n",
    "    BB    = (6/10)(5/9) = 1/3\n",
    "\n",
    "The probability of 0 blue balls (RR)is 2/15\n",
    "The probability of 1 blue ball is (RB or BR) is 4/15+4/15 = 8/15\n",
    "The probability of 2 blue balls (BB) is 1/3\n",
    "\n",
    "So the probability distribution is:Z   p(Z\n",
    "0 =2/15\n",
    "1 =8/15\n",
    "2 = 1/3\n"
   ]
  }
 ],
 "metadata": {
  "kernelspec": {
   "display_name": "Python 3",
   "language": "python",
   "name": "python3"
  },
  "language_info": {
   "codemirror_mode": {
    "name": "ipython",
    "version": 3
   },
   "file_extension": ".py",
   "mimetype": "text/x-python",
   "name": "python",
   "nbconvert_exporter": "python",
   "pygments_lexer": "ipython3",
   "version": "3.7.0"
  }
 },
 "nbformat": 4,
 "nbformat_minor": 2
}
